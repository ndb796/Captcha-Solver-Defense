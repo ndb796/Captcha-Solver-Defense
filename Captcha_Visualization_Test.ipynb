{
  "nbformat": 4,
  "nbformat_minor": 0,
  "metadata": {
    "colab": {
      "name": "Captcha Visualization Test",
      "provenance": [],
      "collapsed_sections": [],
      "include_colab_link": true
    },
    "kernelspec": {
      "name": "python3",
      "display_name": "Python 3"
    },
    "accelerator": "GPU"
  },
  "cells": [
    {
      "cell_type": "markdown",
      "metadata": {
        "id": "view-in-github",
        "colab_type": "text"
      },
      "source": [
        "<a href=\"https://colab.research.google.com/github/ndb796/Captcha-Solver-Defense/blob/master/Captcha_Visualization_Test.ipynb\" target=\"_parent\"><img src=\"https://colab.research.google.com/assets/colab-badge.svg\" alt=\"Open In Colab\"/></a>"
      ]
    },
    {
      "cell_type": "code",
      "metadata": {
        "id": "C1s-Q2m87421",
        "colab_type": "code",
        "outputId": "914f5fc0-887a-49d9-9d4b-04c424d210dc",
        "colab": {
          "base_uri": "https://localhost:8080/",
          "height": 121
        }
      },
      "source": [
        "!git clone https://github.com/ndb796/Captcha-Solver-Defense.git"
      ],
      "execution_count": 0,
      "outputs": [
        {
          "output_type": "stream",
          "text": [
            "Cloning into 'Captcha-Solver-Defense'...\n",
            "remote: Enumerating objects: 140010, done.\u001b[K\n",
            "remote: Total 140010 (delta 0), reused 0 (delta 0), pack-reused 140010\u001b[K\n",
            "Receiving objects: 100% (140010/140010), 1.02 GiB | 56.92 MiB/s, done.\n",
            "Resolving deltas: 100% (1/1), done.\n",
            "Checking out files: 100% (139998/139998), done.\n"
          ],
          "name": "stdout"
        }
      ]
    },
    {
      "cell_type": "code",
      "metadata": {
        "id": "MssNaYRh-pbK",
        "colab_type": "code",
        "colab": {}
      },
      "source": [
        "from PIL import Image\n",
        "from torch.utils.data import DataLoader, Dataset\n",
        "import os\n",
        "import numpy as np\n",
        "import torchvision.transforms as transforms\n",
        "\n",
        "NUMBER = ['0', '1', '2', '3', '4', '5', '6', '7', '8', '9']\n",
        "ALPHABET = ['A', 'B', 'C', 'D', 'E', 'F', 'G', 'H', 'I', 'J', 'K', 'L', 'M', 'N', 'O', 'P', 'Q', 'R', 'S', 'T', 'U', 'V', 'W', 'X', 'Y', 'Z']\n",
        "\n",
        "ALL_CHAR_SET = NUMBER + ALPHABET\n",
        "ALL_CHAR_SET_LEN = len(ALL_CHAR_SET)\n",
        "MAX_CAPTCHA = 4\n",
        "\n",
        "IMAGE_HEIGHT = 60\n",
        "IMAGE_WIDTH = 160\n",
        "\n",
        "TRAIN_DATASET_PATH = 'Captcha-Solver-Defense/dataset' + os.path.sep + 'train'\n",
        "TEST_DATASET_PATH = 'Captcha-Solver-Defense/dataset' + os.path.sep + 'test'\n",
        "PREDICT_DATASET_PATH = 'Captcha-Solver-Defense/dataset' + os.path.sep + 'predict'\n",
        "\n",
        "TRAIN_DATASET_COUNT = 120000\n",
        "TEST_DATASET_COUNT = 20000\n",
        "\n",
        "TRAIN_BATCH_SIZE = 256\n",
        "TEST_BATCH_SIZE = 128\n",
        "\n",
        "def encode(text):\n",
        "    vector = np.zeros(ALL_CHAR_SET_LEN * MAX_CAPTCHA, dtype=float)\n",
        "    def char2pos(c):\n",
        "        if c =='_':\n",
        "            k = 62\n",
        "            return k\n",
        "        k = ord(c)-48\n",
        "        if k > 9:\n",
        "            k = ord(c) - 65 + 10\n",
        "            if k > 35:\n",
        "                k = ord(c) - 97 + 26 + 10\n",
        "                if k > 61:\n",
        "                    raise ValueError('error')\n",
        "        return k\n",
        "    for i, c in enumerate(text):\n",
        "        idx = i * ALL_CHAR_SET_LEN + char2pos(c)\n",
        "        vector[idx] = 1.0\n",
        "    return vector\n",
        "\n",
        "def decode(vec):\n",
        "    char_pos = vec.nonzero()[0]\n",
        "    text=[]\n",
        "    for i, c in enumerate(char_pos):\n",
        "        char_at_pos = i\n",
        "        char_idx = c % ALL_CHAR_SET_LEN\n",
        "        if char_idx < 10:\n",
        "            char_code = char_idx + ord('0')\n",
        "        elif char_idx <36:\n",
        "            char_code = char_idx - 10 + ord('A')\n",
        "        elif char_idx < 62:\n",
        "            char_code = char_idx - 36 + ord('a')\n",
        "        elif char_idx == 62:\n",
        "            char_code = ord('_')\n",
        "        else:\n",
        "            raise ValueError('error')\n",
        "        text.append(chr(char_code))\n",
        "    return \"\".join(text)\n",
        "\n",
        "class MyDataset(Dataset):\n",
        "    def __init__(self, folder, transform=None):\n",
        "        self.train_image_file_paths = [os.path.join(folder, image_file) for image_file in os.listdir(folder)]\n",
        "        self.transform = transform\n",
        "\n",
        "    def __len__(self):\n",
        "        return len(self.train_image_file_paths)\n",
        "\n",
        "    def __getitem__(self, idx):\n",
        "        image_root = self.train_image_file_paths[idx]\n",
        "        image_name = image_root.split(os.path.sep)[-1]\n",
        "        image = Image.open(image_root)\n",
        "        if self.transform is not None:\n",
        "            image = self.transform(image)\n",
        "        label = encode(image_name.split('_')[0])\n",
        "        return image, label\n",
        "\n",
        "transform = transforms.Compose([\n",
        "    transforms.ToTensor(),\n",
        "])\n",
        "\n",
        "def get_train_data_loader():\n",
        "    dataset = MyDataset(TRAIN_DATASET_PATH, transform=transform)\n",
        "    return DataLoader(dataset, batch_size=TRAIN_BATCH_SIZE, shuffle=True)\n",
        "\n",
        "def get_test_data_loader():\n",
        "    dataset = MyDataset(TEST_DATASET_PATH, transform=transform)\n",
        "    return DataLoader(dataset, batch_size=TEST_BATCH_SIZE, shuffle=True)"
      ],
      "execution_count": 0,
      "outputs": []
    },
    {
      "cell_type": "code",
      "metadata": {
        "id": "yliXZbEJCZOV",
        "colab_type": "code",
        "colab": {}
      },
      "source": [
        "adv_dataset_train_path = 'adv_dataset/train'\n",
        "adv_dataset_test_path = 'adv_dataset/test'\n",
        "\n",
        "if not os.path.exists(adv_dataset_train_path):\n",
        "    os.makedirs(adv_dataset_train_path)\n",
        "\n",
        "if not os.path.exists(adv_dataset_test_path):\n",
        "    os.makedirs(adv_dataset_test_path)"
      ],
      "execution_count": 0,
      "outputs": []
    },
    {
      "cell_type": "code",
      "metadata": {
        "id": "O_OMShZc7aLv",
        "colab_type": "code",
        "outputId": "8957fa62-6798-4fe3-8243-27bb9d68d4af",
        "colab": {
          "base_uri": "https://localhost:8080/",
          "height": 34
        }
      },
      "source": [
        "import time\n",
        "import torch\n",
        "import torch.nn as nn\n",
        "from torch.autograd import Variable\n",
        "import torchvision.models as models\n",
        "import torchvision\n",
        "import numpy as np\n",
        "import copy\n",
        "import matplotlib.pyplot as plt\n",
        "from torchvision.utils import save_image\n",
        "import hashlib\n",
        "\n",
        "class RES50(nn.Module):\n",
        "    def __init__(self):\n",
        "        super(RES50, self).__init__()\n",
        "        self.num_cls = MAX_CAPTCHA * ALL_CHAR_SET_LEN\n",
        "        self.base = torchvision.models.resnet50(pretrained=False)\n",
        "        self.base.fc = nn.Linear(self.base.fc.in_features, self.num_cls)\n",
        "    def forward(self, x):\n",
        "        out = self.base(x)\n",
        "        return out\n",
        "\n",
        "class LinfPGDAttack(object):\n",
        "    def __init__(self, model, epsilon=0.1, k=7, a=0.03, random_start=True):\n",
        "        self.model = model\n",
        "        self.epsilon = epsilon\n",
        "        self.k = k\n",
        "        self.a = a\n",
        "        self.random_start = random_start\n",
        "        self.loss_fn = nn.MultiLabelSoftMarginLoss()\n",
        "\n",
        "    def perturb(self, x_natural, y):\n",
        "        if self.random_start:\n",
        "            x = x_natural + np.random.uniform(-self.epsilon, self.epsilon, x_natural.shape).astype('float32')\n",
        "        else:\n",
        "            x = np.copy(x_natural)\n",
        "        for i in range(self.k):\n",
        "            x_var = Variable(torch.from_numpy(x).to(device), requires_grad=True)\n",
        "            y_var = Variable(y, requires_grad=True)\n",
        "            scores = self.model(x_var)\n",
        "            loss = self.loss_fn(scores, y_var)\n",
        "            loss.backward()\n",
        "            grad = x_var.grad.data.cpu().numpy()\n",
        "            x += self.a * np.sign(grad)\n",
        "            x = np.clip(x, x_natural - self.epsilon, x_natural + self.epsilon)\n",
        "            x = np.clip(x, 0, 1)\n",
        "        return x\n",
        "\n",
        "def attack(x, y, model, adversary):\n",
        "    model_copied = copy.deepcopy(model)\n",
        "    for parameter in model_copied.parameters():\n",
        "        parameter.requires_grad = False\n",
        "    model_copied.eval()\n",
        "    adversary.model = model_copied\n",
        "    x_adv = adversary.perturb(x.numpy(), y)\n",
        "    return torch.from_numpy(x_adv)\n",
        "\n",
        "use_cuda = True\n",
        "if use_cuda and torch.cuda.is_available():\n",
        "    print('Cuda Available')\n",
        "device = torch.device(\"cuda:0\" if torch.cuda.is_available() else \"cpu\")\n",
        "\n",
        "num_epochs = 80\n",
        "learning_rate = 0.0005\n",
        "\n",
        "def test():\n",
        "    print(\"[ Test Mode ]\")\n",
        "    cnn = RES50()\n",
        "    cnn = torch.nn.DataParallel(cnn)\n",
        "    cnn.to(device)\n",
        "    cnn.eval()\n",
        "    cnn.load_state_dict(torch.load(\"Captcha-Solver-Defense/model_pgd_delayed_weak_3.pkl\"))\n",
        "\n",
        "    print(\"[ Model Loaded ]\")\n",
        "    criterion = nn.MultiLabelSoftMarginLoss()\n",
        "    optimizer = torch.optim.Adam(cnn.parameters(), lr=learning_rate)\n",
        "    adversary = LinfPGDAttack(model=cnn)\n",
        "    test_data_loader = get_test_data_loader()\n",
        "\n",
        "    correct = 0\n",
        "    total = 0\n",
        "    t0 = time.time()\n",
        "    count = 0\n",
        "    total_loss = 0.0\n",
        "\n",
        "    for i, (images, labels) in enumerate(test_data_loader):\n",
        "        temp_labels = Variable(labels.float()).to(device)\n",
        "        images_adv = attack(images, temp_labels, cnn, adversary)\n",
        "        images_adv_var = Variable(images_adv).to(device)\n",
        "        predict_labels = cnn(images_adv_var).to(device)\n",
        "\n",
        "        temp_labels = Variable(labels.float()).to(device)\n",
        "        loss = criterion(predict_labels, temp_labels)\n",
        "\n",
        "        total_loss += loss.item()\n",
        "        count += 1\n",
        "\n",
        "        current_batch_size = labels.size(0)\n",
        "\n",
        "        for k in range(current_batch_size):\n",
        "            predict_label = predict_labels[k]\n",
        "            c0 = ALL_CHAR_SET[np.argmax(predict_label[0:ALL_CHAR_SET_LEN].data.cpu().numpy())]\n",
        "            c1 = ALL_CHAR_SET[np.argmax(predict_label[ALL_CHAR_SET_LEN:2 * ALL_CHAR_SET_LEN].data.cpu().numpy())]\n",
        "            c2 = ALL_CHAR_SET[np.argmax(predict_label[2 * ALL_CHAR_SET_LEN:3 * ALL_CHAR_SET_LEN].data.cpu().numpy())]\n",
        "            c3 = ALL_CHAR_SET[np.argmax(predict_label[3 * ALL_CHAR_SET_LEN:4 * ALL_CHAR_SET_LEN].data.cpu().numpy())]\n",
        "            true_label = decode(labels.numpy()[k])\n",
        "\n",
        "            print(true_label)\n",
        "            hash_object = hashlib.md5(true_label.encode())\n",
        "            name = true_label + '_' + hash_object.hexdigest() + '.png'\n",
        "\n",
        "            print(images_adv[k].shape)\n",
        "            file_name = adv_dataset_test_path + '/' + name\n",
        "            print(file_name)\n",
        "            save_image(images_adv[k], file_name)\n",
        "\n",
        "            plt.imshow(images_adv[k].permute(1, 2, 0))\n",
        "            plt.show()\n",
        "\n",
        "            predict_label = '%s%s%s%s' % (c0, c1, c2, c3)\n",
        "            if predict_label == true_label:\n",
        "                correct += 1\n",
        "\n",
        "        total += current_batch_size\n",
        "\n",
        "    print(\"Total Test Accuracy of the model on the %d test images: %f %%\" % (total, 100 * correct / total))\n",
        "    print(\"Time Spent:\", time.time() - t0)\n",
        "    print(\"Average Loss:\", total_loss / count)"
      ],
      "execution_count": 0,
      "outputs": [
        {
          "output_type": "stream",
          "text": [
            "Cuda Available\n"
          ],
          "name": "stdout"
        }
      ]
    },
    {
      "cell_type": "code",
      "metadata": {
        "id": "0CR7vcfn_Ew5",
        "colab_type": "code",
        "outputId": "aab01fca-31c0-4ffd-f7f3-6dfaeaf93e96",
        "colab": {
          "base_uri": "https://localhost:8080/",
          "height": 176
        }
      },
      "source": [
        "import matplotlib.pyplot as plt\n",
        "import matplotlib.image as mpimg\n",
        "\n",
        "img = mpimg.imread(adv_dataset_test_path + '/QBEA_11a868b9eca1c438ed02c0ae75e7574e.png')\n",
        "plt.imshow(img)\n",
        "plt.show()"
      ],
      "execution_count": 0,
      "outputs": [
        {
          "output_type": "display_data",
          "data": {
            "image/png": "[encoded data removed]",
            "text/plain": [
              "<Figure size 432x288 with 1 Axes>"
            ]
          },
          "metadata": {
            "tags": []
          }
        }
      ]
    }
  ]
}